{
 "cells": [
  {
   "cell_type": "code",
   "execution_count": 2,
   "id": "0d420eba-2def-41b2-b978-5ef5df58b397",
   "metadata": {},
   "outputs": [
    {
     "name": "stdout",
     "output_type": "stream",
     "text": [
      "WARNING:tensorflow:From C:\\Users\\10710548\\AppData\\Local\\Programs\\Python\\Python311\\Lib\\site-packages\\keras\\src\\losses.py:2976: The name tf.losses.sparse_softmax_cross_entropy is deprecated. Please use tf.compat.v1.losses.sparse_softmax_cross_entropy instead.\n",
      "\n"
     ]
    }
   ],
   "source": [
    "from transformers import AutoTokenizer, AutoModelForSequenceClassification, TextClassificationPipeline\n",
    "model_name = 'qanastek/51-languages-classifier'\n",
    "tokenizer = AutoTokenizer.from_pretrained(model_name)\n",
    "model = AutoModelForSequenceClassification.from_pretrained(model_name)\n"
   ]
  },
  {
   "cell_type": "code",
   "execution_count": 1,
   "id": "4771aa96-f2a4-4165-b257-abaf9ff12acf",
   "metadata": {},
   "outputs": [],
   "source": [
    "# classifier = TextClassificationPipeline(model=model, tokenizer=tokenizer)\n",
    "# res = classifier(\"hello how are you ?\")\n",
    "# print(res)"
   ]
  },
  {
   "cell_type": "code",
   "execution_count": 4,
   "id": "8c525d34-9a3e-48fd-b4a8-4172bf236306",
   "metadata": {},
   "outputs": [],
   "source": [
    "# from transformers import AutoTokenizer\n",
    "\n",
    "# # tokenizer = AutoTokenizer.from_pretrained(\"qanastek/51-languages-classifier\")\n",
    "\n",
    "# code_sample = \"i am maninder')\"\n",
    "\n",
    "# tokens = tokenizer(code_sample, return_tensors=\"pt\")\n",
    "# print(tokens)\n",
    "import datasets\n"
   ]
  },
  {
   "cell_type": "code",
   "execution_count": 10,
   "id": "876baca6-3f83-4045-a305-64c6b6b1574d",
   "metadata": {},
   "outputs": [],
   "source": [
    "data = datasets.load_from_disk('preprocessed_programming_language_data')"
   ]
  },
  {
   "cell_type": "code",
   "execution_count": 19,
   "id": "07cd8abf-4968-4013-8ca5-01104fd5e8cd",
   "metadata": {},
   "outputs": [
    {
     "data": {
      "text/plain": [
       "DatasetDict({\n",
       "    train: Dataset({\n",
       "        features: ['code', 'language_name'],\n",
       "        num_rows: 80652\n",
       "    })\n",
       "    test: Dataset({\n",
       "        features: ['code', 'language_name'],\n",
       "        num_rows: 20164\n",
       "    })\n",
       "})"
      ]
     },
     "execution_count": 19,
     "metadata": {},
     "output_type": "execute_result"
    }
   ],
   "source": [
    "data.train_test_split(0.2)"
   ]
  },
  {
   "cell_type": "code",
   "execution_count": 18,
   "id": "9f281131-20bd-4490-bbd2-ee9a72b57c31",
   "metadata": {},
   "outputs": [
    {
     "data": {
      "text/plain": [
       "'train'"
      ]
     },
     "execution_count": 18,
     "metadata": {},
     "output_type": "execute_result"
    }
   ],
   "source": [
    "train"
   ]
  },
  {
   "cell_type": "code",
   "execution_count": null,
   "id": "7d856fb6-61cc-4baf-87a6-eb03ffc4cdb1",
   "metadata": {},
   "outputs": [],
   "source": [
    "data = datasets.load_dataset('pandas','preprocessed_programming_language_data.csv')"
   ]
  },
  {
   "cell_type": "code",
   "execution_count": null,
   "id": "82e78251-9fab-4aea-a3e8-86af4305bc69",
   "metadata": {},
   "outputs": [],
   "source": []
  }
 ],
 "metadata": {
  "kernelspec": {
   "display_name": "Python 3 (ipykernel)",
   "language": "python",
   "name": "python3"
  },
  "language_info": {
   "codemirror_mode": {
    "name": "ipython",
    "version": 3
   },
   "file_extension": ".py",
   "mimetype": "text/x-python",
   "name": "python",
   "nbconvert_exporter": "python",
   "pygments_lexer": "ipython3",
   "version": "3.11.1"
  }
 },
 "nbformat": 4,
 "nbformat_minor": 5
}
