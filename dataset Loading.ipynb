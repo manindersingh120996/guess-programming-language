{
 "cells": [
  {
   "cell_type": "code",
   "execution_count": 1,
   "id": "2c0c7082-45ec-44f0-9b80-2c315dc84ccf",
   "metadata": {},
   "outputs": [
    {
     "name": "stdout",
     "output_type": "stream",
     "text": [
      "WARNING:tensorflow:From C:\\Users\\10710548\\AppData\\Local\\Programs\\Python\\Python311\\Lib\\site-packages\\keras\\src\\losses.py:2976: The name tf.losses.sparse_softmax_cross_entropy is deprecated. Please use tf.compat.v1.losses.sparse_softmax_cross_entropy instead.\n",
      "\n"
     ]
    }
   ],
   "source": [
    "# loading dataset\n",
    "from datasets import load_dataset\n",
    "from transformers import AutoTokenizer, AutoModelForSequenceClassification, TextClassificationPipeline\n",
    "model_name = 'qanastek/51-languages-classifier'\n",
    "tokenizer = AutoTokenizer.from_pretrained(model_name)\n",
    "model = AutoModelForSequenceClassification.from_pretrained(model_name)\n",
    "\n",
    "dataset = load_dataset(\"cakiki/rosetta-code\",split='train')"
   ]
  },
  {
   "cell_type": "code",
   "execution_count": 2,
   "id": "976dddbc-25fa-45f9-a28f-f251f699ead3",
   "metadata": {},
   "outputs": [],
   "source": [
    "# Extract the 'code' and 'language_name' columns\n",
    "filtered_dataset = dataset.select_columns(['code','language_name'])"
   ]
  },
  {
   "cell_type": "code",
   "execution_count": 3,
   "id": "1666d790-e12d-4c56-aabc-1cce0f7e7582",
   "metadata": {},
   "outputs": [],
   "source": [
    "# filtered_dataset = filtered_dataset.select([0])"
   ]
  },
  {
   "cell_type": "code",
   "execution_count": 4,
   "id": "2e0a6f29-d4c2-4540-b6c5-3c278775ade4",
   "metadata": {},
   "outputs": [
    {
     "data": {
      "text/plain": [
       "Dataset({\n",
       "    features: ['code', 'language_name'],\n",
       "    num_rows: 79013\n",
       "})"
      ]
     },
     "execution_count": 4,
     "metadata": {},
     "output_type": "execute_result"
    }
   ],
   "source": [
    "filtered_dataset"
   ]
  },
  {
   "cell_type": "code",
   "execution_count": 5,
   "id": "54ea0862-a250-418d-83cf-7bf79a6a5654",
   "metadata": {},
   "outputs": [
    {
     "data": {
      "application/vnd.jupyter.widget-view+json": {
       "model_id": "f7293bbbfae149a78db6471903e409b6",
       "version_major": 2,
       "version_minor": 0
      },
      "text/plain": [
       "Map:   0%|          | 0/79013 [00:00<?, ? examples/s]"
      ]
     },
     "metadata": {},
     "output_type": "display_data"
    },
    {
     "name": "stderr",
     "output_type": "stream",
     "text": [
      "Token indices sequence length is longer than the specified maximum sequence length for this model (519 > 512). Running this sequence through the model will result in indexing errors\n"
     ]
    },
    {
     "data": {
      "text/plain": [
       "Dataset({\n",
       "    features: ['code', 'language_name'],\n",
       "    num_rows: 100816\n",
       "})"
      ]
     },
     "execution_count": 5,
     "metadata": {},
     "output_type": "execute_result"
    }
   ],
   "source": [
    "from datasets import load_dataset\n",
    "import datasets\n",
    "\n",
    "# Load the cakiki/rosetta-code dataset\n",
    "# dataset = load_dataset(\"cakiki/rosetta-code\", \"python\")\n",
    "\n",
    "# Function to split code snippets into chunks and associate them with the language name\n",
    "def split_and_associate_language(example):\n",
    "    max_token_limit = 510\n",
    "    code = example[\"code\"]\n",
    "    language_name = example[\"language_name\"]\n",
    "    \n",
    "    # Tokenize the code\n",
    "    tokens = tokenizer.encode(code, add_special_tokens=True)\n",
    "    # print(len(tokens))\n",
    "\n",
    "    # Split into chunks\n",
    "    chunks = [tokens[i:i + max_token_limit] for i in range(0, len(tokens), max_token_limit)]\n",
    "    # print(len(chunks))\n",
    "\n",
    "    # Create a list of dictionaries, each representing a chunk\n",
    "    # chunked_examples = [{\"code\": tokenizer.decode(chunk, skip_special_tokens=True), \"language_name\": language_name} for chunk in chunks]\n",
    "    chunked_examples = {'code':[],'language_name':[]}\n",
    "    # code = []\n",
    "    # language = []\n",
    "    for chunk in chunks:\n",
    "        chunked_examples['code'].append(tokenizer.decode(chunk, skip_special_tokens=True))\n",
    "        chunked_examples['language_name'].append(language_name)\n",
    "        # code += [tokenizer.decode(chunk, skip_special_tokens=True)]\n",
    "        # language += [language_name]\n",
    "    # print(chunked_examples)\n",
    "    # print(language)\n",
    "    \n",
    "\n",
    "    return chunked_examples#{'code':code,'language_name':language}#chunked_examples\n",
    "\n",
    "\n",
    "filtered_dataset = filtered_dataset.map(split_and_associate_language)\n",
    "\n",
    "flattened_dataset = {\n",
    "    'code': [item for sublist in filtered_dataset['code'] for item in sublist],\n",
    "    'language_name': [item for sublist in filtered_dataset['language_name'] for item in sublist],\n",
    "}\n",
    "new_dataset = datasets.Dataset.from_dict({'code': flattened_dataset['code'], 'language_name': flattened_dataset['language_name']})\n",
    "new_dataset"
   ]
  },
  {
   "cell_type": "code",
   "execution_count": 20,
   "id": "6928f7b1-90b9-41ae-9f88-a1b81790f4c2",
   "metadata": {},
   "outputs": [
    {
     "data": {
      "application/vnd.jupyter.widget-view+json": {
       "model_id": "1c2ffa99dd2a4dec82e8a90ba8302eae",
       "version_major": 2,
       "version_minor": 0
      },
      "text/plain": [
       "Saving the dataset (0/1 shards):   0%|          | 0/100816 [00:00<?, ? examples/s]"
      ]
     },
     "metadata": {},
     "output_type": "display_data"
    }
   ],
   "source": [
    "new_dataset.save_to_disk('preprocessed_programming_language_data')"
   ]
  },
  {
   "cell_type": "code",
   "execution_count": 19,
   "id": "e7fd2060-c597-4858-9374-aca66c4495b9",
   "metadata": {},
   "outputs": [
    {
     "data": {
      "application/vnd.jupyter.widget-view+json": {
       "model_id": "685fc2d51f6e41afb66d4da9bb2cb49a",
       "version_major": 2,
       "version_minor": 0
      },
      "text/plain": [
       "Creating CSV from Arrow format:   0%|          | 0/101 [00:00<?, ?ba/s]"
      ]
     },
     "metadata": {},
     "output_type": "display_data"
    },
    {
     "data": {
      "text/plain": [
       "61112666"
      ]
     },
     "execution_count": 19,
     "metadata": {},
     "output_type": "execute_result"
    }
   ],
   "source": [
    "new_dataset.to_csv('preprocessed_programming_language_data.csv')"
   ]
  },
  {
   "cell_type": "code",
   "execution_count": 15,
   "id": "5da949a9-93d6-4066-8310-c7063f02da80",
   "metadata": {},
   "outputs": [],
   "source": [
    "import pandas as pd\n",
    "import matplotlib.pyplot as plt\n",
    "\n",
    "data = pd.Series(new_dataset['language_name']).value_counts()"
   ]
  },
  {
   "cell_type": "code",
   "execution_count": null,
   "id": "30d69696-b3ed-4460-9086-be2d1ffddb69",
   "metadata": {},
   "outputs": [],
   "source": []
  },
  {
   "cell_type": "markdown",
   "id": "9bab2745-b838-4740-996c-ec587a2dbfe5",
   "metadata": {},
   "source": [
    "#### Data Observation"
   ]
  },
  {
   "cell_type": "code",
   "execution_count": 8,
   "id": "ab4d0453-39cd-4c46-b21c-ad9d28e094fd",
   "metadata": {},
   "outputs": [
    {
     "data": {
      "text/html": [
       "<div>\n",
       "<style scoped>\n",
       "    .dataframe tbody tr th:only-of-type {\n",
       "        vertical-align: middle;\n",
       "    }\n",
       "\n",
       "    .dataframe tbody tr th {\n",
       "        vertical-align: top;\n",
       "    }\n",
       "\n",
       "    .dataframe thead th {\n",
       "        text-align: right;\n",
       "    }\n",
       "</style>\n",
       "<table border=\"1\" class=\"dataframe\">\n",
       "  <thead>\n",
       "    <tr style=\"text-align: right;\">\n",
       "      <th></th>\n",
       "      <th>code</th>\n",
       "      <th>language_name</th>\n",
       "    </tr>\n",
       "  </thead>\n",
       "  <tbody>\n",
       "    <tr>\n",
       "      <th>0</th>\n",
       "      <td>BEGIN # find all primes with strictly increasi...</td>\n",
       "      <td>ALGOL 68</td>\n",
       "    </tr>\n",
       "    <tr>\n",
       "      <th>1</th>\n",
       "      <td>ascending?: function [x][     initial: digits ...</td>\n",
       "      <td>Arturo</td>\n",
       "    </tr>\n",
       "    <tr>\n",
       "      <th>2</th>\n",
       "      <td># syntax: GAWK -f ASCENDING_PRIMES.AWK BEGIN...</td>\n",
       "      <td>AWK</td>\n",
       "    </tr>\n",
       "    <tr>\n",
       "      <th>3</th>\n",
       "      <td>// Ascending primes. Nigel Galloway: April 1...</td>\n",
       "      <td>F#</td>\n",
       "    </tr>\n",
       "    <tr>\n",
       "      <th>4</th>\n",
       "      <td>USING: grouping math math.combinatorics math.f...</td>\n",
       "      <td>Factor</td>\n",
       "    </tr>\n",
       "    <tr>\n",
       "      <th>...</th>\n",
       "      <td>...</td>\n",
       "      <td>...</td>\n",
       "    </tr>\n",
       "    <tr>\n",
       "      <th>79008</th>\n",
       "      <td>do(2){ask(\"A B: \").split(\" \").filter().sum().p...</td>\n",
       "      <td>zkl</td>\n",
       "    </tr>\n",
       "    <tr>\n",
       "      <th>79009</th>\n",
       "      <td>program: a_plus_b   input: '7 11'    output: 1...</td>\n",
       "      <td>Zoea</td>\n",
       "    </tr>\n",
       "    <tr>\n",
       "      <th>79010</th>\n",
       "      <td>module ABProblem; var \\ta,b: integer; begin ...</td>\n",
       "      <td>Zoea Visual</td>\n",
       "    </tr>\n",
       "    <tr>\n",
       "      <th>79011</th>\n",
       "      <td>module ABProblem; var \\ta,b: integer; begin ...</td>\n",
       "      <td>zonnon</td>\n",
       "    </tr>\n",
       "    <tr>\n",
       "      <th>79012</th>\n",
       "      <td>10 PRINT \"Input two numbers separated by\"'\"spa...</td>\n",
       "      <td>ZX Spectrum Basic</td>\n",
       "    </tr>\n",
       "  </tbody>\n",
       "</table>\n",
       "<p>79013 rows × 2 columns</p>\n",
       "</div>"
      ],
      "text/plain": [
       "                                                    code      language_name\n",
       "0      BEGIN # find all primes with strictly increasi...           ALGOL 68\n",
       "1      ascending?: function [x][     initial: digits ...             Arturo\n",
       "2        # syntax: GAWK -f ASCENDING_PRIMES.AWK BEGIN...                AWK\n",
       "3        // Ascending primes. Nigel Galloway: April 1...                 F#\n",
       "4      USING: grouping math math.combinatorics math.f...             Factor\n",
       "...                                                  ...                ...\n",
       "79008  do(2){ask(\"A B: \").split(\" \").filter().sum().p...                zkl\n",
       "79009  program: a_plus_b   input: '7 11'    output: 1...               Zoea\n",
       "79010    module ABProblem; var \\ta,b: integer; begin ...        Zoea Visual\n",
       "79011    module ABProblem; var \\ta,b: integer; begin ...             zonnon\n",
       "79012  10 PRINT \"Input two numbers separated by\"'\"spa...  ZX Spectrum Basic\n",
       "\n",
       "[79013 rows x 2 columns]"
      ]
     },
     "execution_count": 8,
     "metadata": {},
     "output_type": "execute_result"
    }
   ],
   "source": [
    "data = pd.DataFrame(list(zip(dataset['code'],dataset['language_name'])),columns = ['code','language_name'],index = None)\n",
    "# pd.DataFrame(list(zip(lst, lst2)),\n",
    "#                columns =['Name', 'val'])\n",
    "data['code'] = data['code'].apply(lambda x: x.replace('\\n',' '))\n",
    "data"
   ]
  },
  {
   "cell_type": "code",
   "execution_count": 9,
   "id": "c2a132e7-ac0b-4eb7-98da-6be1ff0995b3",
   "metadata": {},
   "outputs": [
    {
     "data": {
      "text/html": [
       "<div>\n",
       "<style scoped>\n",
       "    .dataframe tbody tr th:only-of-type {\n",
       "        vertical-align: middle;\n",
       "    }\n",
       "\n",
       "    .dataframe tbody tr th {\n",
       "        vertical-align: top;\n",
       "    }\n",
       "\n",
       "    .dataframe thead th {\n",
       "        text-align: right;\n",
       "    }\n",
       "</style>\n",
       "<table border=\"1\" class=\"dataframe\">\n",
       "  <thead>\n",
       "    <tr style=\"text-align: right;\">\n",
       "      <th></th>\n",
       "      <th>code</th>\n",
       "      <th>language_name</th>\n",
       "    </tr>\n",
       "  </thead>\n",
       "  <tbody>\n",
       "    <tr>\n",
       "      <th>0</th>\n",
       "      <td>BEGIN # find all primes with strictly increasi...</td>\n",
       "      <td>ALGOL 68</td>\n",
       "    </tr>\n",
       "    <tr>\n",
       "      <th>1</th>\n",
       "      <td>newline ) ) FI OD END</td>\n",
       "      <td>ALGOL 68</td>\n",
       "    </tr>\n",
       "    <tr>\n",
       "      <th>2</th>\n",
       "      <td>ascending?: function [x][ initial: digits x an...</td>\n",
       "      <td>Arturo</td>\n",
       "    </tr>\n",
       "    <tr>\n",
       "      <th>3</th>\n",
       "      <td># syntax: GAWK -f ASCENDING_PRIMES.AWK BEGIN {...</td>\n",
       "      <td>AWK</td>\n",
       "    </tr>\n",
       "    <tr>\n",
       "      <th>4</th>\n",
       "      <td>// Ascending primes. Nigel Galloway: April 19t...</td>\n",
       "      <td>F#</td>\n",
       "    </tr>\n",
       "    <tr>\n",
       "      <th>...</th>\n",
       "      <td>...</td>\n",
       "      <td>...</td>\n",
       "    </tr>\n",
       "    <tr>\n",
       "      <th>100811</th>\n",
       "      <td>do(2){ask(\"A B: \").split(\" \").filter().sum().p...</td>\n",
       "      <td>zkl</td>\n",
       "    </tr>\n",
       "    <tr>\n",
       "      <th>100812</th>\n",
       "      <td>program: a_plus_b input: '7 11' output: 18</td>\n",
       "      <td>Zoea</td>\n",
       "    </tr>\n",
       "    <tr>\n",
       "      <th>100813</th>\n",
       "      <td>module ABProblem; var a,b: integer; begin read...</td>\n",
       "      <td>Zoea Visual</td>\n",
       "    </tr>\n",
       "    <tr>\n",
       "      <th>100814</th>\n",
       "      <td>module ABProblem; var a,b: integer; begin read...</td>\n",
       "      <td>zonnon</td>\n",
       "    </tr>\n",
       "    <tr>\n",
       "      <th>100815</th>\n",
       "      <td>10 PRINT \"Input two numbers separated by\"'\"spa...</td>\n",
       "      <td>ZX Spectrum Basic</td>\n",
       "    </tr>\n",
       "  </tbody>\n",
       "</table>\n",
       "<p>100816 rows × 2 columns</p>\n",
       "</div>"
      ],
      "text/plain": [
       "                                                     code      language_name\n",
       "0       BEGIN # find all primes with strictly increasi...           ALGOL 68\n",
       "1                                   newline ) ) FI OD END           ALGOL 68\n",
       "2       ascending?: function [x][ initial: digits x an...             Arturo\n",
       "3       # syntax: GAWK -f ASCENDING_PRIMES.AWK BEGIN {...                AWK\n",
       "4       // Ascending primes. Nigel Galloway: April 19t...                 F#\n",
       "...                                                   ...                ...\n",
       "100811  do(2){ask(\"A B: \").split(\" \").filter().sum().p...                zkl\n",
       "100812         program: a_plus_b input: '7 11' output: 18               Zoea\n",
       "100813  module ABProblem; var a,b: integer; begin read...        Zoea Visual\n",
       "100814  module ABProblem; var a,b: integer; begin read...             zonnon\n",
       "100815  10 PRINT \"Input two numbers separated by\"'\"spa...  ZX Spectrum Basic\n",
       "\n",
       "[100816 rows x 2 columns]"
      ]
     },
     "execution_count": 9,
     "metadata": {},
     "output_type": "execute_result"
    }
   ],
   "source": [
    "data = pd.DataFrame(list(zip(new_dataset['code'],new_dataset['language_name'])),columns = ['code','language_name'],index = None)\n",
    "# pd.DataFrame(list(zip(lst, lst2)),\n",
    "#                columns =['Name', 'val'])\n",
    "data['code'] = data['code'].apply(lambda x: x.replace('\\n',' '))\n",
    "data"
   ]
  },
  {
   "cell_type": "code",
   "execution_count": null,
   "id": "76d87f99-1e6f-46b0-abb1-f18509953741",
   "metadata": {},
   "outputs": [],
   "source": []
  }
 ],
 "metadata": {
  "kernelspec": {
   "display_name": "Python 3 (ipykernel)",
   "language": "python",
   "name": "python3"
  },
  "language_info": {
   "codemirror_mode": {
    "name": "ipython",
    "version": 3
   },
   "file_extension": ".py",
   "mimetype": "text/x-python",
   "name": "python",
   "nbconvert_exporter": "python",
   "pygments_lexer": "ipython3",
   "version": "3.11.1"
  }
 },
 "nbformat": 4,
 "nbformat_minor": 5
}
