{
 "cells": [
  {
   "cell_type": "code",
   "execution_count": 4,
   "id": "2c0c7082-45ec-44f0-9b80-2c315dc84ccf",
   "metadata": {},
   "outputs": [
    {
     "data": {
      "application/vnd.jupyter.widget-view+json": {
       "model_id": "7eae76e0edde4d9a907234ef8898a6b8",
       "version_major": 2,
       "version_minor": 0
      },
      "text/plain": [
       "Downloading data files:   0%|          | 0/1 [00:00<?, ?it/s]"
      ]
     },
     "metadata": {},
     "output_type": "display_data"
    },
    {
     "data": {
      "application/vnd.jupyter.widget-view+json": {
       "model_id": "85eed801620d4887a69e920fe4fb8575",
       "version_major": 2,
       "version_minor": 0
      },
      "text/plain": [
       "Downloading data:   0%|          | 0.00/36.8M [00:00<?, ?B/s]"
      ]
     },
     "metadata": {},
     "output_type": "display_data"
    },
    {
     "data": {
      "application/vnd.jupyter.widget-view+json": {
       "model_id": "968462ce71944e31b381e3933cb9ea7e",
       "version_major": 2,
       "version_minor": 0
      },
      "text/plain": [
       "Extracting data files:   0%|          | 0/1 [00:00<?, ?it/s]"
      ]
     },
     "metadata": {},
     "output_type": "display_data"
    },
    {
     "data": {
      "application/vnd.jupyter.widget-view+json": {
       "model_id": "e54a693bf20d4f9e9a4318056f94afc5",
       "version_major": 2,
       "version_minor": 0
      },
      "text/plain": [
       "Generating train split:   0%|          | 0/79013 [00:00<?, ? examples/s]"
      ]
     },
     "metadata": {},
     "output_type": "display_data"
    }
   ],
   "source": [
    "# loading dataset\n",
    "from datasets import load_dataset\n",
    "\n",
    "dataset = load_dataset(\"cakiki/rosetta-code\", split=\"train\")"
   ]
  },
  {
   "cell_type": "code",
   "execution_count": 45,
   "id": "976dddbc-25fa-45f9-a28f-f251f699ead3",
   "metadata": {},
   "outputs": [
    {
     "data": {
      "text/plain": [
       "Dataset({\n",
       "    features: ['task_url', 'task_name', 'task_description', 'language_url', 'language_name', 'code'],\n",
       "    num_rows: 79013\n",
       "})"
      ]
     },
     "execution_count": 45,
     "metadata": {},
     "output_type": "execute_result"
    }
   ],
   "source": [
    "dataset"
   ]
  },
  {
   "cell_type": "code",
   "execution_count": null,
   "id": "1666d790-e12d-4c56-aabc-1cce0f7e7582",
   "metadata": {},
   "outputs": [],
   "source": []
  },
  {
   "cell_type": "code",
   "execution_count": 19,
   "id": "5da949a9-93d6-4066-8310-c7063f02da80",
   "metadata": {},
   "outputs": [],
   "source": [
    "import pandas as pd\n",
    "import matplotlib.pyplot as plt\n",
    "\n",
    "data = pd.Series(dataset['language_name']).value_counts()"
   ]
  },
  {
   "cell_type": "code",
   "execution_count": 56,
   "id": "30d69696-b3ed-4460-9086-be2d1ffddb69",
   "metadata": {},
   "outputs": [
    {
     "data": {
      "text/plain": [
       "list"
      ]
     },
     "execution_count": 56,
     "metadata": {},
     "output_type": "execute_result"
    }
   ],
   "source": [
    "type(dataset['language_name'])"
   ]
  },
  {
   "cell_type": "code",
   "execution_count": 65,
   "id": "ab4d0453-39cd-4c46-b21c-ad9d28e094fd",
   "metadata": {},
   "outputs": [
    {
     "data": {
      "text/html": [
       "<div>\n",
       "<style scoped>\n",
       "    .dataframe tbody tr th:only-of-type {\n",
       "        vertical-align: middle;\n",
       "    }\n",
       "\n",
       "    .dataframe tbody tr th {\n",
       "        vertical-align: top;\n",
       "    }\n",
       "\n",
       "    .dataframe thead th {\n",
       "        text-align: right;\n",
       "    }\n",
       "</style>\n",
       "<table border=\"1\" class=\"dataframe\">\n",
       "  <thead>\n",
       "    <tr style=\"text-align: right;\">\n",
       "      <th></th>\n",
       "      <th>code</th>\n",
       "      <th>language_name</th>\n",
       "    </tr>\n",
       "  </thead>\n",
       "  <tbody>\n",
       "    <tr>\n",
       "      <th>0</th>\n",
       "      <td>BEGIN # find all primes with strictly increasi...</td>\n",
       "      <td>ALGOL 68</td>\n",
       "    </tr>\n",
       "    <tr>\n",
       "      <th>1</th>\n",
       "      <td>ascending?: function [x][     initial: digits ...</td>\n",
       "      <td>Arturo</td>\n",
       "    </tr>\n",
       "    <tr>\n",
       "      <th>2</th>\n",
       "      <td># syntax: GAWK -f ASCENDING_PRIMES.AWK BEGIN...</td>\n",
       "      <td>AWK</td>\n",
       "    </tr>\n",
       "    <tr>\n",
       "      <th>3</th>\n",
       "      <td>// Ascending primes. Nigel Galloway: April 1...</td>\n",
       "      <td>F#</td>\n",
       "    </tr>\n",
       "    <tr>\n",
       "      <th>4</th>\n",
       "      <td>USING: grouping math math.combinatorics math.f...</td>\n",
       "      <td>Factor</td>\n",
       "    </tr>\n",
       "    <tr>\n",
       "      <th>...</th>\n",
       "      <td>...</td>\n",
       "      <td>...</td>\n",
       "    </tr>\n",
       "    <tr>\n",
       "      <th>79008</th>\n",
       "      <td>do(2){ask(\"A B: \").split(\" \").filter().sum().p...</td>\n",
       "      <td>zkl</td>\n",
       "    </tr>\n",
       "    <tr>\n",
       "      <th>79009</th>\n",
       "      <td>program: a_plus_b   input: '7 11'    output: 1...</td>\n",
       "      <td>Zoea</td>\n",
       "    </tr>\n",
       "    <tr>\n",
       "      <th>79010</th>\n",
       "      <td>module ABProblem; var \\ta,b: integer; begin ...</td>\n",
       "      <td>Zoea Visual</td>\n",
       "    </tr>\n",
       "    <tr>\n",
       "      <th>79011</th>\n",
       "      <td>module ABProblem; var \\ta,b: integer; begin ...</td>\n",
       "      <td>zonnon</td>\n",
       "    </tr>\n",
       "    <tr>\n",
       "      <th>79012</th>\n",
       "      <td>10 PRINT \"Input two numbers separated by\"'\"spa...</td>\n",
       "      <td>ZX Spectrum Basic</td>\n",
       "    </tr>\n",
       "  </tbody>\n",
       "</table>\n",
       "<p>79013 rows × 2 columns</p>\n",
       "</div>"
      ],
      "text/plain": [
       "                                                    code      language_name\n",
       "0      BEGIN # find all primes with strictly increasi...           ALGOL 68\n",
       "1      ascending?: function [x][     initial: digits ...             Arturo\n",
       "2        # syntax: GAWK -f ASCENDING_PRIMES.AWK BEGIN...                AWK\n",
       "3        // Ascending primes. Nigel Galloway: April 1...                 F#\n",
       "4      USING: grouping math math.combinatorics math.f...             Factor\n",
       "...                                                  ...                ...\n",
       "79008  do(2){ask(\"A B: \").split(\" \").filter().sum().p...                zkl\n",
       "79009  program: a_plus_b   input: '7 11'    output: 1...               Zoea\n",
       "79010    module ABProblem; var \\ta,b: integer; begin ...        Zoea Visual\n",
       "79011    module ABProblem; var \\ta,b: integer; begin ...             zonnon\n",
       "79012  10 PRINT \"Input two numbers separated by\"'\"spa...  ZX Spectrum Basic\n",
       "\n",
       "[79013 rows x 2 columns]"
      ]
     },
     "execution_count": 65,
     "metadata": {},
     "output_type": "execute_result"
    }
   ],
   "source": [
    "data = pd.DataFrame(list(zip(dataset['code'],dataset['language_name'])),columns = ['code','language_name'],index = None)\n",
    "# pd.DataFrame(list(zip(lst, lst2)),\n",
    "#                columns =['Name', 'val'])\n",
    "data['code'] = data['code'].apply(lambda x: x.replace('\\n',' '))\n",
    "data"
   ]
  },
  {
   "cell_type": "code",
   "execution_count": 54,
   "id": "457762eb-c7d6-478f-850e-c37372d5dbba",
   "metadata": {},
   "outputs": [
    {
     "data": {
      "text/html": [
       "<div>\n",
       "<style scoped>\n",
       "    .dataframe tbody tr th:only-of-type {\n",
       "        vertical-align: middle;\n",
       "    }\n",
       "\n",
       "    .dataframe tbody tr th {\n",
       "        vertical-align: top;\n",
       "    }\n",
       "\n",
       "    .dataframe thead th {\n",
       "        text-align: right;\n",
       "    }\n",
       "</style>\n",
       "<table border=\"1\" class=\"dataframe\">\n",
       "  <thead>\n",
       "    <tr style=\"text-align: right;\">\n",
       "      <th></th>\n",
       "      <th>0</th>\n",
       "    </tr>\n",
       "  </thead>\n",
       "  <tbody>\n",
       "    <tr>\n",
       "      <th>ALGOL 68</th>\n",
       "      <td>BEGIN # find all primes with strictly increasi...</td>\n",
       "    </tr>\n",
       "    <tr>\n",
       "      <th>Arturo</th>\n",
       "      <td>ascending?: function [x][\\n    initial: digits...</td>\n",
       "    </tr>\n",
       "    <tr>\n",
       "      <th>AWK</th>\n",
       "      <td>\\n# syntax: GAWK -f ASCENDING_PRIMES.AWK\\nBEG...</td>\n",
       "    </tr>\n",
       "    <tr>\n",
       "      <th>F#</th>\n",
       "      <td>\\n// Ascending primes. Nigel Galloway: April ...</td>\n",
       "    </tr>\n",
       "    <tr>\n",
       "      <th>Factor</th>\n",
       "      <td>USING: grouping math math.combinatorics math.f...</td>\n",
       "    </tr>\n",
       "    <tr>\n",
       "      <th>...</th>\n",
       "      <td>...</td>\n",
       "    </tr>\n",
       "    <tr>\n",
       "      <th>zkl</th>\n",
       "      <td>do(2){ask(\"A B: \").split(\" \").filter().sum().p...</td>\n",
       "    </tr>\n",
       "    <tr>\n",
       "      <th>Zoea</th>\n",
       "      <td>program: a_plus_b\\n  input: '7 11' \\n  output:...</td>\n",
       "    </tr>\n",
       "    <tr>\n",
       "      <th>Zoea Visual</th>\n",
       "      <td>\\nmodule ABProblem;\\nvar\\n\\ta,b: integer;\\nbe...</td>\n",
       "    </tr>\n",
       "    <tr>\n",
       "      <th>zonnon</th>\n",
       "      <td>\\nmodule ABProblem;\\nvar\\n\\ta,b: integer;\\nbe...</td>\n",
       "    </tr>\n",
       "    <tr>\n",
       "      <th>ZX Spectrum Basic</th>\n",
       "      <td>10 PRINT \"Input two numbers separated by\"'\"spa...</td>\n",
       "    </tr>\n",
       "  </tbody>\n",
       "</table>\n",
       "<p>79013 rows × 1 columns</p>\n",
       "</div>"
      ],
      "text/plain": [
       "                                                                   0\n",
       "ALGOL 68           BEGIN # find all primes with strictly increasi...\n",
       "Arturo             ascending?: function [x][\\n    initial: digits...\n",
       "AWK                 \\n# syntax: GAWK -f ASCENDING_PRIMES.AWK\\nBEG...\n",
       "F#                  \\n// Ascending primes. Nigel Galloway: April ...\n",
       "Factor             USING: grouping math math.combinatorics math.f...\n",
       "...                                                              ...\n",
       "zkl                do(2){ask(\"A B: \").split(\" \").filter().sum().p...\n",
       "Zoea               program: a_plus_b\\n  input: '7 11' \\n  output:...\n",
       "Zoea Visual         \\nmodule ABProblem;\\nvar\\n\\ta,b: integer;\\nbe...\n",
       "zonnon              \\nmodule ABProblem;\\nvar\\n\\ta,b: integer;\\nbe...\n",
       "ZX Spectrum Basic  10 PRINT \"Input two numbers separated by\"'\"spa...\n",
       "\n",
       "[79013 rows x 1 columns]"
      ]
     },
     "execution_count": 54,
     "metadata": {},
     "output_type": "execute_result"
    }
   ],
   "source": [
    "data"
   ]
  },
  {
   "cell_type": "code",
   "execution_count": 30,
   "id": "a0ed9c0f-3761-4bae-b26d-7a55ca69bbdd",
   "metadata": {},
   "outputs": [
    {
     "data": {
      "text/plain": [
       "Phix        1181\n",
       "Julia       1179\n",
       "Wren        1177\n",
       "Go          1172\n",
       "Raku        1168\n",
       "            ... \n",
       "PHP          439\n",
       "Prolog       434\n",
       "Action!      425\n",
       "PL/I         421\n",
       "Quackery     419\n",
       "Name: count, Length: 63, dtype: int64"
      ]
     },
     "execution_count": 30,
     "metadata": {},
     "output_type": "execute_result"
    }
   ],
   "source": [
    "data[pd.Series(dataset['language_name']).value_counts()>400]"
   ]
  },
  {
   "cell_type": "code",
   "execution_count": null,
   "id": "c2a132e7-ac0b-4eb7-98da-6be1ff0995b3",
   "metadata": {},
   "outputs": [],
   "source": []
  }
 ],
 "metadata": {
  "kernelspec": {
   "display_name": "Python 3 (ipykernel)",
   "language": "python",
   "name": "python3"
  },
  "language_info": {
   "codemirror_mode": {
    "name": "ipython",
    "version": 3
   },
   "file_extension": ".py",
   "mimetype": "text/x-python",
   "name": "python",
   "nbconvert_exporter": "python",
   "pygments_lexer": "ipython3",
   "version": "3.11.1"
  }
 },
 "nbformat": 4,
 "nbformat_minor": 5
}
